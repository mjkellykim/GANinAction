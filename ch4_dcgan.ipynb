{
  "nbformat": 4,
  "nbformat_minor": 0,
  "metadata": {
    "colab": {
      "name": "ch4_dcgan.ipynb",
      "provenance": [],
      "authorship_tag": "ABX9TyPVii3PNPmZ1Lq5Dg8zP7Ca",
      "include_colab_link": true
    },
    "kernelspec": {
      "name": "python3",
      "display_name": "Python 3"
    },
    "language_info": {
      "name": "python"
    }
  },
  "cells": [
    {
      "cell_type": "markdown",
      "metadata": {
        "id": "view-in-github",
        "colab_type": "text"
      },
      "source": [
        "<a href=\"https://colab.research.google.com/github/mjkellykim/GANinAction/blob/main/ch4_dcgan.ipynb\" target=\"_parent\"><img src=\"https://colab.research.google.com/assets/colab-badge.svg\" alt=\"Open In Colab\"/></a>"
      ]
    },
    {
      "cell_type": "markdown",
      "source": [
        "**4.4 튜토리얼 : DCGAN으로 손글씨 숫자 생성하기**\n",
        "\n",
        "*   https://github.com/eriklindernoren/Keras-GAN \n",
        "*   https://github.com/rickiepark/gans-in-action "
      ],
      "metadata": {
        "id": "7yuMDiTcbOSl"
      }
    },
    {
      "cell_type": "code",
      "execution_count": null,
      "metadata": {
        "id": "14pSTCIMDZiM"
      },
      "outputs": [],
      "source": [
        "%matplotlib inline\n",
        "\n",
        "import matplotlib.pyplot as plt\n",
        "import numpy as np\n",
        "\n",
        "from tensorflow.keras.datasets import mnist\n",
        "from tensorflow.keras.layers import Activation, BatchNormalization, Dense, Dropout, Flatten, Reshape\n",
        "from tensorflow.keras.layers import LeakyReLU\n",
        "from tensorflow.keras.layers import Conv2D, Conv2DTranspose\n",
        "from tensorflow.keras.models import Sequential\n",
        "from tensorflow.keras.optimizers import Adam"
      ]
    },
    {
      "cell_type": "code",
      "source": [
        "img_rows = 28\n",
        "img_cols = 28\n",
        "channels = 1\n",
        "\n",
        "# 입력 이미지 차원\n",
        "img_shape = (img_rows, img_cols, channels)\n",
        "\n",
        "# 생성자 입력으로 사용될 잡음 벡터의 크기\n",
        "z_dim = 100"
      ],
      "metadata": {
        "id": "SuIhRd_WcgoU"
      },
      "execution_count": null,
      "outputs": []
    },
    {
      "cell_type": "code",
      "source": [
        "def build_generator(z_dim):\n",
        "\n",
        "    model = Sequential()\n",
        "\n",
        "    # 완전 연결층을 통해 입력을 7x7x256 크기 텐서로 변환\n",
        "    model.add(Dense(256 * 7 * 7, input_dim=z_dim))\n",
        "    model.add(Reshape((7, 7, 256)))\n",
        "\n",
        "    # 7x7x256에서 14x14x128 텐서로 바꾸는 전치 합성곱 층\n",
        "    model.add(Conv2DTranspose(128, kernel_size=3, strides=2, padding='same'))\n",
        "\n",
        "    # 배치 정규화\n",
        "    model.add(BatchNormalization())\n",
        "\n",
        "    # LeakyReLU 활성화 함수\n",
        "    model.add(LeakyReLU(alpha=0.01))\n",
        "\n",
        "    # 14x14x128에서 14x14x64 텐서로 바꾸는 전치 합성곱 층\n",
        "    model.add(Conv2DTranspose(64, kernel_size=3, strides=1, padding='same'))\n",
        "\n",
        "    # 배치 정규화\n",
        "    model.add(BatchNormalization())\n",
        "\n",
        "    # LeakyReLU 활성화 함수\n",
        "    model.add(LeakyReLU(alpha=0.01))\n",
        "\n",
        "    # 14x14x64에서 28x28x1 텐서로 바꾸는 전치 합성곱 층\n",
        "    model.add(Conv2DTranspose(1, kernel_size=3, strides=2, padding='same'))\n",
        "\n",
        "    # tanh 활성화 함수를 사용한 출력층\n",
        "    model.add(Activation('tanh'))\n",
        "\n",
        "    return model"
      ],
      "metadata": {
        "id": "uMcp5HsLcha1"
      },
      "execution_count": null,
      "outputs": []
    },
    {
      "cell_type": "code",
      "source": [
        "def build_gan(generator, discriminator):\n",
        "\n",
        "    model = Sequential()\n",
        "\n",
        "    # 생성자 -> 판별자로 연결된 모델\n",
        "    model.add(generator)\n",
        "    model.add(discriminator)\n",
        "\n",
        "    return model"
      ],
      "metadata": {
        "id": "bUhZ9Q4ocpEA"
      },
      "execution_count": null,
      "outputs": []
    },
    {
      "cell_type": "code",
      "source": [
        "# 판별자 모델을 만들고 컴파일하기\n",
        "discriminator = build_discriminator(img_shape)\n",
        "discriminator.compile(loss='binary_crossentropy',\n",
        "                      optimizer=Adam(),\n",
        "                      metrics=['accuracy'])\n",
        "\n",
        "# 생성자 모델 만들기\n",
        "generator = build_generator(z_dim)\n",
        "\n",
        "# 생성자를 훈련하는 동안 판별자의 파라미터를 유지\n",
        "discriminator.trainable = False\n",
        "\n",
        "# 생성자를 훈련하기 위해 동결된 판별자로 GAN 모델을 만들고 컴파일\n",
        "gan = build_gan(generator, discriminator)\n",
        "gan.compile(loss='binary_crossentropy', optimizer=Adam())"
      ],
      "metadata": {
        "id": "qll1a8lzcsmQ"
      },
      "execution_count": null,
      "outputs": []
    },
    {
      "cell_type": "code",
      "source": [
        "losses = []\n",
        "accuracies = []\n",
        "iteration_checkpoints = []\n",
        "\n",
        "\n",
        "def train(iterations, batch_size, sample_interval):\n",
        "\n",
        "    # MNIST 데이터셋 로드\n",
        "    (X_train, _), (_, _) = mnist.load_data()\n",
        "\n",
        "    # [0, 255] 흑백 픽셀 값을 [-1, 1] 사이로 스케일 조정\n",
        "    X_train = X_train / 127.5 - 1.0\n",
        "    X_train = np.expand_dims(X_train, axis=3)\n",
        "\n",
        "    # 진짜 이미지 레이블: 모두 1\n",
        "    real = np.ones((batch_size, 1))\n",
        "\n",
        "    # 가짜 이미지 레이블: 모두 0\n",
        "    fake = np.zeros((batch_size, 1))\n",
        "\n",
        "    for iteration in range(iterations):\n",
        "\n",
        "        # -------------------------\n",
        "        #  판별자 훈련\n",
        "        # -------------------------\n",
        "\n",
        "        # 진짜 이미지에서 랜덤 배치 가져오기\n",
        "        idx = np.random.randint(0, X_train.shape[0], batch_size)\n",
        "        imgs = X_train[idx]\n",
        "\n",
        "        # 가짜 이미지 배치 생성\n",
        "        z = np.random.normal(0, 1, (batch_size, 100))\n",
        "        gen_imgs = generator.predict(z)\n",
        "\n",
        "        # 판별자 훈련\n",
        "        d_loss_real = discriminator.train_on_batch(imgs, real)\n",
        "        d_loss_fake = discriminator.train_on_batch(gen_imgs, fake)\n",
        "        d_loss, accuracy = 0.5 * np.add(d_loss_real, d_loss_fake)\n",
        "\n",
        "        # ---------------------\n",
        "        #  생성자 훈련\n",
        "        # ---------------------\n",
        "\n",
        "        # 가짜 이미지 배치 생성\n",
        "        z = np.random.normal(0, 1, (batch_size, 100))\n",
        "        gen_imgs = generator.predict(z)\n",
        "\n",
        "        # 생성자 훈련\n",
        "        g_loss = gan.train_on_batch(z, real)\n",
        "\n",
        "        if (iteration + 1) % sample_interval == 0:\n",
        "\n",
        "            # 훈련이 끝난 후 그래프를 그리기 위해 손실과 정확도 저장\n",
        "            losses.append((d_loss, g_loss))\n",
        "            accuracies.append(100.0 * accuracy)\n",
        "            iteration_checkpoints.append(iteration + 1)\n",
        "\n",
        "            # 훈련 과정 출력\n",
        "            print(\"%d [D 손실: %f, 정확도: %.2f%%] [G 손실: %f]\" %\n",
        "                  (iteration + 1, d_loss, 100.0 * accuracy, g_loss))\n",
        "\n",
        "            # 생성된 이미지 샘플 출력\n",
        "            sample_images(generator)"
      ],
      "metadata": {
        "id": "JEy9Iw6YcxV-"
      },
      "execution_count": null,
      "outputs": []
    },
    {
      "cell_type": "code",
      "source": [
        "def sample_images(generator, image_grid_rows=4, image_grid_columns=4):\n",
        "\n",
        "    # 랜덤한 잡음 샘플링\n",
        "    z = np.random.normal(0, 1, (image_grid_rows * image_grid_columns, z_dim))\n",
        "\n",
        "    # 랜덤한 잡음에서 이미지 생성하기\n",
        "    gen_imgs = generator.predict(z)\n",
        "\n",
        "    # 이미지 픽셀 값을 [0, 1] 사이로 스케일 조정\n",
        "    gen_imgs = 0.5 * gen_imgs + 0.5\n",
        "\n",
        "    # 이미지 그리드 설정\n",
        "    fig, axs = plt.subplots(image_grid_rows,\n",
        "                            image_grid_columns,\n",
        "                            figsize=(4, 4),\n",
        "                            sharey=True,\n",
        "                            sharex=True)\n",
        "\n",
        "    cnt = 0\n",
        "    for i in range(image_grid_rows):\n",
        "        for j in range(image_grid_columns):\n",
        "            # 이미지 그리드 출력\n",
        "            axs[i, j].imshow(gen_imgs[cnt, :, :, 0], cmap='gray')\n",
        "            axs[i, j].axis('off')\n",
        "            cnt += 1\n",
        "    plt.show()"
      ],
      "metadata": {
        "id": "sZkj5nSXc0Kj"
      },
      "execution_count": null,
      "outputs": []
    },
    {
      "cell_type": "code",
      "source": [
        "# 하이퍼파라미터 설정\n",
        "iterations = 20000\n",
        "batch_size = 128\n",
        "sample_interval = 1000\n",
        "\n",
        "# 지정된 반복 횟수만큼 DCGAN 훈련\n",
        "train(iterations, batch_size, sample_interval)"
      ],
      "metadata": {
        "id": "n4A9s2g8c13w"
      },
      "execution_count": null,
      "outputs": []
    },
    {
      "cell_type": "code",
      "source": [
        "losses = np.array(losses)\n",
        "\n",
        "# 판별자와 생성자의 훈련 손실 그래프\n",
        "plt.figure(figsize=(15, 5))\n",
        "plt.plot(iteration_checkpoints, losses.T[0], label=\"Discriminator loss\")\n",
        "plt.plot(iteration_checkpoints, losses.T[1], label=\"Generator loss\")\n",
        "\n",
        "plt.xticks(iteration_checkpoints, rotation=90)\n",
        "\n",
        "plt.title(\"Training Loss\")\n",
        "plt.xlabel(\"Iteration\")\n",
        "plt.ylabel(\"Loss\")\n",
        "plt.legend()"
      ],
      "metadata": {
        "id": "_EB1Zx-xc57G"
      },
      "execution_count": null,
      "outputs": []
    },
    {
      "cell_type": "code",
      "source": [
        "accuracies = np.array(accuracies)\n",
        "\n",
        "# 판별자의 정확도 그래프\n",
        "plt.figure(figsize=(15, 5))\n",
        "plt.plot(iteration_checkpoints, accuracies, label=\"Discriminator accuracy\")\n",
        "\n",
        "plt.xticks(iteration_checkpoints, rotation=90)\n",
        "plt.yticks(range(0, 100, 5))\n",
        "\n",
        "plt.title(\"Discriminator Accuracy\")\n",
        "plt.xlabel(\"Iteration\")\n",
        "plt.ylabel(\"Accuracy (%)\")\n",
        "plt.legend()"
      ],
      "metadata": {
        "id": "-Yfn6x0dc7Sr"
      },
      "execution_count": null,
      "outputs": []
    }
  ]
}