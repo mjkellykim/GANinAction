{
  "nbformat": 4,
  "nbformat_minor": 0,
  "metadata": {
    "colab": {
      "name": "ch3_gan.ipynb",
      "provenance": [],
      "authorship_tag": "ABX9TyNIrfM4mWQ/N/ELrzuCoaVM",
      "include_colab_link": true
    },
    "kernelspec": {
      "name": "python3",
      "display_name": "Python 3"
    },
    "language_info": {
      "name": "python"
    },
    "accelerator": "GPU"
  },
  "cells": [
    {
      "cell_type": "markdown",
      "metadata": {
        "id": "view-in-github",
        "colab_type": "text"
      },
      "source": [
        "<a href=\"https://colab.research.google.com/github/mjkellykim/GANinAction/blob/main/ch3_gan.ipynb\" target=\"_parent\"><img src=\"https://colab.research.google.com/assets/colab-badge.svg\" alt=\"Open In Colab\"/></a>"
      ]
    },
    {
      "cell_type": "code",
      "execution_count": 1,
      "metadata": {
        "id": "2FsDaLJ8ULd4"
      },
      "outputs": [],
      "source": [
        "%matplotlib inline\n",
        "\n",
        "import matplotlib.pyplot as plt\n",
        "import numpy as np\n",
        "\n",
        "from tensorflow.keras.datasets import mnist\n",
        "from tensorflow.keras.layers import Dense, Flatten, Reshape\n",
        "from tensorflow.keras.layers import LeakyReLU\n",
        "from tensorflow.keras.models import Sequential\n",
        "from tensorflow.keras.optimizers import Adam"
      ]
    },
    {
      "cell_type": "code",
      "source": [
        "img_rows = 28\n",
        "img_cols = 28\n",
        "channels = 1\n",
        "\n",
        "img_shape = (img_rows, img_cols, channels) # 입력 이미지 차원\n",
        "\n",
        "z_dim = 100 # 생성자의 입력으로 사용될 잡음 벡터의 크기"
      ],
      "metadata": {
        "id": "701cxKg_TWen"
      },
      "execution_count": 2,
      "outputs": []
    },
    {
      "cell_type": "code",
      "source": [
        "# Generator\n",
        "def build_generator(img_shape, z_dim):\n",
        "    model = Sequential()\n",
        "    model.add(Dense(128, input_dim=z_dim)) # 완전 연결층\n",
        "    model.add(LeakyReLU(alpha=0.01)) # LeakyReLU 활성화 함수\n",
        "    model.add(Dense(28*28*1, activation='tanh')) # tanh 활성화 함수를 사용한 출력층\n",
        "    model.add(Reshape(img_shape)) # 생성자 출력을 이미지 차원으로 변경\n",
        "    return model"
      ],
      "metadata": {
        "id": "mf4Sd8H_Tvk_"
      },
      "execution_count": 3,
      "outputs": []
    },
    {
      "cell_type": "code",
      "source": [
        "# Discriminator\n",
        "def build_discriminator(img_shape):\n",
        "    model = Sequential()\n",
        "    model.add(Flatten(input_shape=img_shape)) # 입력 이미지 일렬로 펼치기\n",
        "    model.add(Dense(128)) # 완전 연결층\n",
        "    model.add(LeakyReLU(alpha=0.01)) # LeakyReLU 활성화 함수\n",
        "    model.add(Dense(1,activation='sigmoid')) # sigmoid 활성화 함수를 사용한 출력층\n",
        "    return model"
      ],
      "metadata": {
        "id": "AhbtWGpyUTt0"
      },
      "execution_count": 4,
      "outputs": []
    },
    {
      "cell_type": "code",
      "source": [
        "# Build the GAN Model\n",
        "def build_gan(generator, discriminator):\n",
        "    model = Sequential()\n",
        "    model.add(generator)\n",
        "    model.add(discriminator)\n",
        "    return model"
      ],
      "metadata": {
        "id": "z4tFsOLVUzFI"
      },
      "execution_count": 5,
      "outputs": []
    },
    {
      "cell_type": "code",
      "source": [
        "discriminator = build_discriminator(img_shape) # 판별자 모델 만들고 컴파일 하기\n",
        "discriminator.compile(loss='binary_crossentropy',\n",
        "                      optimizer=Adam(),\n",
        "                      metrics=['accuracy'])\n",
        "\n",
        "generator = build_generator(img_shape, z_dim) # 생성자 모델 만들기\n",
        "\n",
        "discriminator.trainable = False # 생성자 훈련시에 판별자 파라미터 동결\n",
        " \n",
        "gan = build_gan(generator, discriminator) # 생성자를 훈련하기 위해 동결한 판별자로 GAN 모델 만들고 컴파일하기\n",
        "gan.compile(loss='binary_crossentropy', optimizer=Adam())"
      ],
      "metadata": {
        "id": "pS5gZNB8VerH"
      },
      "execution_count": 6,
      "outputs": []
    },
    {
      "cell_type": "code",
      "source": [
        "# Training\n",
        "losses = []\n",
        "accuracies = []\n",
        "iteration_checkpoints = []\n",
        "\n",
        "def train(iterations, batch_size, sample_interval):\n",
        "    \n",
        "    (X_train, _), (_, _) = mnist.load_data() # 데이터셋 로드\n",
        "\n",
        "    X_train = X_train / 127.5 - 1.0 # [0, 255] 흑백 픽셀값을 [-1, 1] 사이로 스케일 조정\n",
        "    X_train = np.expand_dims(X_train, axis=3)\n",
        "\n",
        "    real = np.ones((batch_size, 1)) # 진짜 이미지 레이블 : 모두 1\n",
        "    fake = np.zeros((batch_size, 1)) # 가짜 이미지 레이블 : 모두 0\n",
        "\n",
        "    for iteration in range(iterations):\n",
        "        idx = np.random.randint(0, X_train.shape[0], batch_size) # 진짜 이미지에서 랜덤 배치 가져오기\n",
        "        imgs = X_train[idx]\n",
        "\n",
        "        z = np.random.normal(0, 1, (batch_size, 100)) # 가짜 이미지 배치 생성\n",
        "        gen_imgs = generator.predict(z) ## kmjeung\n",
        "\n",
        "        d_loss_real = discriminator.train_on_batch(imgs, real) # 판별자 훈련\n",
        "        d_loss_fake = discriminator.train_on_batch(gen_imgs ,fake)\n",
        "        d_loss, accuracy = 0.5 * np.add(d_loss_real, d_loss_fake)\n",
        "\n",
        "        z = np.random.normal(0, 1, (batch_size, 100)) # 가짜 이미지 배치 생성\n",
        "        gen_imgs = generator.predict(z)\n",
        "\n",
        "        g_loss = gan.train_on_batch(z, real) # 생성자 훈련\n",
        "\n",
        "        if (iteration + 1) % sample_interval == 0:\n",
        "            losses.append((d_loss,g_loss))\n",
        "            accuracies.append(100.0 * accuracy)\n",
        "            iteration_checkpoints.append(iteration + 1)\n",
        "            print(\"%d [D 손실: %f, 정확도: %.2f%%] [G 손실: %f]\" % # 훈련 과정 출력\n",
        "                  (iteration+1, d_loss, 100.0 * accuracy, g_loss))\n",
        "            \n",
        "        sample_images(generator)"
      ],
      "metadata": {
        "id": "LVVrBz6EVuVr"
      },
      "execution_count": 7,
      "outputs": []
    },
    {
      "cell_type": "code",
      "source": [
        "def sample_images(generator, image_grid_rows=4, image_grid_columns=4):\n",
        "    z = np.random.normal(0, 1, (image_grid_rows * image_grid_columns, z_dim))\n",
        "\n",
        "    gen_imgs = generator.predict(z) # 랜덤한 잡음에서 이미지 생성\n",
        "\n",
        "    gen_imgs = 0.5 * gen_imgs + 0.5 # 이미지 픽셀 값을 [0,1] 범위로 스케일 조정\n",
        "\n",
        "    fig, axs = plt.subplots(image_grid_rows, # 이미지 그리드 설정\n",
        "                            image_grid_columns, \n",
        "                            figsize=(4,4),\n",
        "                            sharey=True,\n",
        "                            sharex=True)\n",
        "    \n",
        "    cnt = 0\n",
        "    for i in range(image_grid_columns):\n",
        "        for j in range(image_grid_columns):\n",
        "            axs[i, j].imshow(gen_imgs[cnt, :, :, 0], cmap='gray') # 이미지 그리드 출력\n",
        "            axs[i, j].axis('off')\n",
        "            cnt += 1"
      ],
      "metadata": {
        "id": "GvBLbo1iYvlq"
      },
      "execution_count": 8,
      "outputs": []
    },
    {
      "cell_type": "code",
      "source": [
        "iterations = 20000 # 하이퍼파라미터 설정\n",
        "batch_size = 128\n",
        "sample_interval = 1000\n",
        "\n",
        "train(iterations, batch_size, sample_interval) # 지정된 횟수 동안 GAN 훈련"
      ],
      "metadata": {
        "colab": {
          "base_uri": "https://localhost:8080/"
        },
        "id": "3bBSYrLDZ0pN",
        "outputId": "b9035f68-6daf-42d0-8675-ca57f9313fab"
      },
      "execution_count": null,
      "outputs": [
        {
          "output_type": "stream",
          "name": "stdout",
          "text": [
            "Downloading data from https://storage.googleapis.com/tensorflow/tf-keras-datasets/mnist.npz\n",
            "11493376/11490434 [==============================] - 0s 0us/step\n",
            "11501568/11490434 [==============================] - 0s 0us/step\n"
          ]
        },
        {
          "output_type": "stream",
          "name": "stderr",
          "text": [
            "/usr/local/lib/python3.7/dist-packages/ipykernel_launcher.py:12: RuntimeWarning: More than 20 figures have been opened. Figures created through the pyplot interface (`matplotlib.pyplot.figure`) are retained until explicitly closed and may consume too much memory. (To control this warning, see the rcParam `figure.max_open_warning`).\n",
            "  if sys.path[0] == '':\n"
          ]
        }
      ]
    }
  ]
}